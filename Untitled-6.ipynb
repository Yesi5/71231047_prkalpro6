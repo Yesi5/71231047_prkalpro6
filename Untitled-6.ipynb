{
 "cells": [
  {
   "cell_type": "code",
   "execution_count": 1,
   "metadata": {},
   "outputs": [
    {
     "name": "stdout",
     "output_type": "stream",
     "text": [
      "Bilangan prima terdekat yang lebih kecil dari 21 adalah 19\n"
     ]
    }
   ],
   "source": [
    "#Latihan 6.1\n",
    "def is_prime(num):\n",
    "    if num < 2:\n",
    "        return False\n",
    "    for i in range(2, int(num**0.5) + 1):\n",
    "        if num % i == 0:\n",
    "            return False\n",
    "    return True\n",
    "\n",
    "def find_nearest_prime(n):\n",
    "    while True:\n",
    "        n -= 1\n",
    "        if is_prime(n):\n",
    "            return n\n",
    "        \n",
    "user_input = int(input(\"Masukkan bilangan: \"))\n",
    "\n",
    "nearest_prime = find_nearest_prime(user_input)\n",
    "\n",
    "print(f\"Bilangan prima terdekat yang lebih kecil dari {user_input} adalah {nearest_prime}\")"
   ]
  },
  {
   "cell_type": "code",
   "execution_count": 2,
   "metadata": {},
   "outputs": [
    {
     "name": "stdout",
     "output_type": "stream",
     "text": [
      "720 6 5 4 3 2 1 \n",
      "120 5 4 3 2 1 \n",
      "24 4 3 2 1 \n",
      "6 3 2 1 \n",
      "2 2 1 \n",
      "1 1 \n"
     ]
    }
   ],
   "source": [
    "#Latihan 6.2\n",
    "n = int(input(\"Masukkan nilai n: \"))\n",
    "\n",
    "def factorial(n):\n",
    "    if n == 0:\n",
    "        return 1\n",
    "    else:\n",
    "        return n * factorial(n-1)\n",
    "\n",
    "for i in range(n, 0, -1):\n",
    "    result = factorial(i)\n",
    "    print(result, end=\" \")\n",
    "    for j in range(i, 0, -1):\n",
    "        print(j, end=\" \")\n",
    "    print()"
   ]
  },
  {
   "cell_type": "code",
   "execution_count": 3,
   "metadata": {},
   "outputs": [
    {
     "name": "stdout",
     "output_type": "stream",
     "text": [
      "1 2 3 4 \n",
      "5 6 7 8 \n",
      "9 10 11 12 \n",
      "13 14 15 16 \n",
      "17 18 19 20 \n"
     ]
    }
   ],
   "source": [
    "#Latihan 6.3\n",
    "tinggi = int(input(\"Masukkan tinggi: \"))\n",
    "lebar = int(input(\"Masukkan lebar: \"))\n",
    "\n",
    "nilai = 1\n",
    "for i in range(tinggi):\n",
    "    for j in range(lebar):\n",
    "        print(nilai, end=\" \")\n",
    "        nilai += 1\n",
    "    print()"
   ]
  }
 ],
 "metadata": {
  "kernelspec": {
   "display_name": "Python 3",
   "language": "python",
   "name": "python3"
  },
  "language_info": {
   "codemirror_mode": {
    "name": "ipython",
    "version": 3
   },
   "file_extension": ".py",
   "mimetype": "text/x-python",
   "name": "python",
   "nbconvert_exporter": "python",
   "pygments_lexer": "ipython3",
   "version": "3.12.0"
  }
 },
 "nbformat": 4,
 "nbformat_minor": 2
}
